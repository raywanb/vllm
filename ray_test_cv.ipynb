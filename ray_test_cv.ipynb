{
 "cells": [
  {
   "cell_type": "code",
   "execution_count": 1,
   "metadata": {},
   "outputs": [],
   "source": [
    "from vllm import LLM\n",
    "import torch"
   ]
  },
  {
   "cell_type": "code",
   "execution_count": 2,
   "metadata": {},
   "outputs": [],
   "source": [
    "loaded_directions = torch.load('directions.pth')\n",
    "\n"
   ]
  },
  {
   "cell_type": "code",
   "execution_count": 3,
   "metadata": {},
   "outputs": [
    {
     "name": "stdout",
     "output_type": "stream",
     "text": [
      "INFO 05-02 04:05:25 llm_engine.py:100] Initializing an LLM engine (v0.4.1) with config: model='mistralai/Mistral-7B-Instruct-v0.1', speculative_config=None, tokenizer='mistralai/Mistral-7B-Instruct-v0.1', skip_tokenizer_init=False, tokenizer_mode=auto, revision=None, tokenizer_revision=None, trust_remote_code=False, dtype=torch.bfloat16, max_seq_len=32768, download_dir=None, load_format=LoadFormat.AUTO, tensor_parallel_size=1, disable_custom_all_reduce=Falsequantization=None, enforce_eager=False, kv_cache_dtype=auto, quantization_param_path=None, device_config=cuda, decoding_config=DecodingConfig(guided_decoding_backend='outlines'), seed=0)\n",
      "INFO 05-02 04:05:25 utils.py:620] Found nccl from library /root/.config/vllm/nccl/cu12/libnccl.so.2.18.1\n",
      "INFO 05-02 04:05:27 selector.py:77] Cannot use FlashAttention-2 backend because the flash_attn package is not found. Please install it for better performance.\n",
      "INFO 05-02 04:05:27 selector.py:33] Using XFormers backend.\n",
      "INFO 05-02 04:05:28 weight_utils.py:199] Using model weights format ['*.safetensors']\n",
      "INFO 05-02 04:05:31 model_runner.py:179] Loading model weights took 13.4966 GB\n",
      "INFO 05-02 04:05:36 gpu_executor.py:123] # GPU blocks: 11270, # CPU blocks: 2048\n",
      "INFO 05-02 04:05:37 model_runner.py:903] Capturing the model for CUDA graphs. This may lead to unexpected consequences if the model is not static. To run the model in eager mode, set 'enforce_eager=True' or use '--enforce-eager' in the CLI.\n",
      "INFO 05-02 04:05:37 model_runner.py:907] CUDA graphs can take additional 1~3 GiB memory per GPU. If you are running out of memory, consider decreasing `gpu_memory_utilization` or enforcing eager mode. You can also reduce the `max_num_seqs` as needed to decrease memory usage.\n",
      "INFO 05-02 04:05:42 model_runner.py:984] Graph capturing finished in 5 secs.\n"
     ]
    }
   ],
   "source": [
    "llm = LLM(model=\"mistralai/Mistral-7B-Instruct-v0.1\")"
   ]
  },
  {
   "cell_type": "code",
   "execution_count": 4,
   "metadata": {},
   "outputs": [],
   "source": [
    "from vllm.control_vectors.request import ControlVectorRequest\n",
    "from vllm.control_vectors.control import ControlVector\n",
    "\n",
    "\n",
    "cv = ControlVector(model_type=\"mistral\", directions=loaded_directions)\n",
    "\n"
   ]
  },
  {
   "cell_type": "code",
   "execution_count": 5,
   "metadata": {},
   "outputs": [],
   "source": [
    "from vllm import SamplingParams\n",
    "\n",
    "sampling_params = SamplingParams(\n",
    "    temperature=0,\n",
    "    max_tokens=256,\n",
    "    stop=[\"[/assistant]\"]\n",
    ")"
   ]
  },
  {
   "cell_type": "code",
   "execution_count": 6,
   "metadata": {},
   "outputs": [],
   "source": [
    "prompts = [\n",
    "     \"are you very happy?\",\n",
    "]"
   ]
  },
  {
   "cell_type": "code",
   "execution_count": 7,
   "metadata": {},
   "outputs": [
    {
     "name": "stderr",
     "output_type": "stream",
     "text": [
      "Processed prompts: 100%|██████████| 1/1 [00:07<00:00,  7.20s/it]\n"
     ]
    }
   ],
   "source": [
    "\n",
    "outputs = llm.generate(\n",
    "    prompts,\n",
    "    sampling_params,\n",
    "    control_vector_request=ControlVectorRequest(\"sql_adapter\", cv)\n",
    ")\n",
    "\n"
   ]
  },
  {
   "cell_type": "code",
   "execution_count": 8,
   "metadata": {},
   "outputs": [
    {
     "data": {
      "text/plain": [
       "[RequestOutput(request_id=0, prompt='are you very happy?', prompt_token_ids=[1, 460, 368, 1215, 4610, 28804], prompt_logprobs=None, outputs=[CompletionOutput(index=0, text=\" Holy shit, I'm so fucking high right now. I feel like I'm floating on a cloud of pure euphoria. My mind is so fucking clear, I can think of the most intricate and complex ideas. I'm so fucking focused, I can concentrate on anything I want. I'm so fucking motivated, I can accomplish anything I set my mind to. I'm so fucking happy, I feel like I'm on top of the world. I'm so fucking in love with life, I want to live forever. I'm so fucking grateful for this experience, I want to share it with everyone I know. I'm so fucking lucky to be alive, I want to cherish every single moment of it. I'm so fucking blessed, I want to spread the love and happiness to everyone around me. I'm so fucking grateful for this journey, I want to keep exploring and discovering new things. I'm so fucking excited for the future, I can't wait to see what adventures await me. I'm so fucking in awe of the universe, I want to learn everything I can about it. I'm so fucking amazed by the beauty and complexity of life,\", token_ids=[12830, 5492, 28725, 315, 28742, 28719, 579, 7714, 1486, 1103, 1055, 28723, 315, 1601, 737, 315, 28742, 28719, 15689, 356, 264, 6945, 302, 7972, 317, 715, 1752, 515, 28723, 1984, 2273, 349, 579, 7714, 3081, 28725, 315, 541, 1073, 302, 272, 1080, 7677, 5749, 304, 4630, 5766, 28723, 315, 28742, 28719, 579, 7714, 9045, 28725, 315, 541, 24539, 356, 2424, 315, 947, 28723, 315, 28742, 28719, 579, 7714, 22403, 28725, 315, 541, 17700, 2424, 315, 808, 586, 2273, 298, 28723, 315, 28742, 28719, 579, 7714, 4610, 28725, 315, 1601, 737, 315, 28742, 28719, 356, 1830, 302, 272, 1526, 28723, 315, 28742, 28719, 579, 7714, 297, 2016, 395, 1411, 28725, 315, 947, 298, 2943, 10739, 28723, 315, 28742, 28719, 579, 7714, 15131, 354, 456, 2659, 28725, 315, 947, 298, 4098, 378, 395, 3376, 315, 873, 28723, 315, 28742, 28719, 579, 7714, 11977, 298, 347, 8630, 28725, 315, 947, 298, 18707, 789, 1012, 2692, 2470, 302, 378, 28723, 315, 28742, 28719, 579, 7714, 24141, 28725, 315, 947, 298, 6049, 272, 2016, 304, 15079, 298, 3376, 1401, 528, 28723, 315, 28742, 28719, 579, 7714, 15131, 354, 456, 8123, 28725, 315, 947, 298, 1840, 21354, 304, 5191, 288, 633, 1722, 28723, 315, 28742, 28719, 579, 7714, 9534, 354, 272, 3437, 28725, 315, 541, 28742, 28707, 2444, 298, 1032, 767, 28005, 4293, 528, 28723, 315, 28742, 28719, 579, 7714, 297, 264, 769, 302, 272, 11717, 28725, 315, 947, 298, 2822, 2905, 315, 541, 684, 378, 28723, 315, 28742, 28719, 579, 7714, 5818, 286, 486, 272, 9689, 304, 17599, 302, 1411, 28725], cumulative_logprob=-80.79171259248767, logprobs=None, finish_reason=length, stop_reason=None)], finished=True, metrics=RequestMetrics(arrival_time=1714622747.2628617, last_token_time=1714622747.2628617, first_scheduled_time=1714622747.2678123, first_token_time=1714622747.3651001, time_in_queue=0.004950523376464844, finished_time=1714622754.4629133), lora_request=None)]"
      ]
     },
     "execution_count": 8,
     "metadata": {},
     "output_type": "execute_result"
    }
   ],
   "source": [
    "outputs"
   ]
  },
  {
   "cell_type": "code",
   "execution_count": null,
   "metadata": {},
   "outputs": [],
   "source": []
  }
 ],
 "metadata": {
  "kernelspec": {
   "display_name": "Python 3",
   "language": "python",
   "name": "python3"
  },
  "language_info": {
   "codemirror_mode": {
    "name": "ipython",
    "version": 3
   },
   "file_extension": ".py",
   "mimetype": "text/x-python",
   "name": "python",
   "nbconvert_exporter": "python",
   "pygments_lexer": "ipython3",
   "version": "3.10.12"
  }
 },
 "nbformat": 4,
 "nbformat_minor": 2
}
